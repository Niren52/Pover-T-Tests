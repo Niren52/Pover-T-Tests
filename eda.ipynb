{
 "cells": [
  {
   "cell_type": "markdown",
   "metadata": {},
   "source": [
    "# Exploratory Data Analysis"
   ]
  },
  {
   "cell_type": "markdown",
   "metadata": {},
   "source": [
    "## Summary:"
   ]
  },
  {
   "cell_type": "markdown",
   "metadata": {},
   "source": [
    "## Import packages and load data"
   ]
  },
  {
   "cell_type": "code",
   "execution_count": 1,
   "metadata": {},
   "outputs": [],
   "source": [
    "import os\n",
    "import numpy as np\n",
    "import pandas as pd\n",
    "import matplotlib.pyplot as plt\n",
    "%matplotlib inline\n",
    "from sklearn import preprocessing\n",
    "\n",
    "# data directory\n",
    "DATA_DIR = os.path.join('data')"
   ]
  },
  {
   "cell_type": "code",
   "execution_count": 2,
   "metadata": {},
   "outputs": [],
   "source": [
    "data_paths_hhold = {'A': {'train': os.path.join(DATA_DIR, 'A_hhold_train.csv'), \n",
    "                    'test':  os.path.join(DATA_DIR, 'A_hhold_test.csv')}, \n",
    "              \n",
    "              'B': {'train': os.path.join(DATA_DIR, 'B_hhold_train.csv'), \n",
    "                    'test':  os.path.join(DATA_DIR, 'B_hhold_test.csv')}, \n",
    "              \n",
    "              'C': {'train': os.path.join(DATA_DIR, 'C_hhold_train.csv'), \n",
    "                    'test':  os.path.join(DATA_DIR, 'C_hhold_test.csv')}}\n",
    "\n",
    "data_paths_indiv = {'A': {'train': os.path.join(DATA_DIR, 'A_indiv_train.csv'), \n",
    "                    'test':  os.path.join(DATA_DIR, 'A_indiv_test.csv')}, \n",
    "              \n",
    "              'B': {'train': os.path.join(DATA_DIR, 'B_indiv_train.csv'), \n",
    "                    'test':  os.path.join(DATA_DIR, 'B_indiv_test.csv')}, \n",
    "              \n",
    "              'C': {'train': os.path.join(DATA_DIR, 'C_indiv_train.csv'), \n",
    "                    'test':  os.path.join(DATA_DIR, 'C_indiv_test.csv')}}"
   ]
  },
  {
   "cell_type": "code",
   "execution_count": 3,
   "metadata": {},
   "outputs": [],
   "source": [
    "# load data\n",
    "a_hhold_train = pd.read_csv(data_paths_hhold['A']['train'], index_col='id')\n",
    "b_hhold_train = pd.read_csv(data_paths_hhold['B']['train'], index_col='id')\n",
    "c_hhold_train = pd.read_csv(data_paths_hhold['C']['train'], index_col='id')\n",
    "\n",
    "a_hhold_test = pd.read_csv(data_paths_hhold['A']['test'], index_col='id')\n",
    "b_hhold_test = pd.read_csv(data_paths_hhold['B']['test'], index_col='id')\n",
    "c_hhold_test = pd.read_csv(data_paths_hhold['C']['test'], index_col='id')\n",
    "\n",
    "a_indiv_train = pd.read_csv(data_paths_indiv['A']['train'], index_col='id')\n",
    "b_indiv_train = pd.read_csv(data_paths_indiv['B']['train'], index_col='id')\n",
    "c_indiv_train = pd.read_csv(data_paths_indiv['C']['train'], index_col='id')\n",
    "\n",
    "a_indiv_test = pd.read_csv(data_paths_indiv['A']['test'], index_col='id')\n",
    "b_indiv_test = pd.read_csv(data_paths_indiv['B']['test'], index_col='id')\n",
    "c_indiv_test = pd.read_csv(data_paths_indiv['C']['test'], index_col='id')\n",
    "\n",
    "datasets = [a_hhold_train, a_indiv_train, a_hhold_test, a_indiv_test, b_hhold_train, b_indiv_train, b_hhold_test, b_indiv_test, c_hhold_train, c_indiv_train, c_hhold_test, c_indiv_test]"
   ]
  },
  {
   "cell_type": "code",
   "execution_count": 4,
   "metadata": {},
   "outputs": [],
   "source": [
    "# Variables for preprocessing\n",
    "min_max_scaler = preprocessing.MinMaxScaler()"
   ]
  },
  {
   "cell_type": "markdown",
   "metadata": {},
   "source": [
    "## Missing data"
   ]
  },
  {
   "cell_type": "markdown",
   "metadata": {},
   "source": [
    "### Global analysis"
   ]
  },
  {
   "cell_type": "markdown",
   "metadata": {},
   "source": [
    "We need to check if the datasets contain missing data."
   ]
  },
  {
   "cell_type": "code",
   "execution_count": 5,
   "metadata": {
    "scrolled": false
   },
   "outputs": [
    {
     "data": {
      "text/html": [
       "<div>\n",
       "<table border=\"1\" class=\"dataframe\">\n",
       "  <thead>\n",
       "    <tr style=\"text-align: right;\">\n",
       "      <th></th>\n",
       "      <th>Columns</th>\n",
       "      <th>Columns with missing features</th>\n",
       "      <th>Mean % nulls</th>\n",
       "      <th>Total rows</th>\n",
       "    </tr>\n",
       "  </thead>\n",
       "  <tbody>\n",
       "    <tr>\n",
       "      <th>a_hhold_train</th>\n",
       "      <td>345</td>\n",
       "      <td>0</td>\n",
       "      <td>0.000000</td>\n",
       "      <td>8203</td>\n",
       "    </tr>\n",
       "    <tr>\n",
       "      <th>a_indiv_train</th>\n",
       "      <td>43</td>\n",
       "      <td>1</td>\n",
       "      <td>0.166880</td>\n",
       "      <td>37560</td>\n",
       "    </tr>\n",
       "    <tr>\n",
       "      <th>a_hhold_test</th>\n",
       "      <td>344</td>\n",
       "      <td>0</td>\n",
       "      <td>0.000000</td>\n",
       "      <td>4041</td>\n",
       "    </tr>\n",
       "    <tr>\n",
       "      <th>a_indiv_test</th>\n",
       "      <td>42</td>\n",
       "      <td>1</td>\n",
       "      <td>0.165255</td>\n",
       "      <td>18535</td>\n",
       "    </tr>\n",
       "    <tr>\n",
       "      <th>b_hhold_train</th>\n",
       "      <td>442</td>\n",
       "      <td>9</td>\n",
       "      <td>0.572931</td>\n",
       "      <td>3255</td>\n",
       "    </tr>\n",
       "    <tr>\n",
       "      <th>b_indiv_train</th>\n",
       "      <td>226</td>\n",
       "      <td>28</td>\n",
       "      <td>0.813452</td>\n",
       "      <td>20252</td>\n",
       "    </tr>\n",
       "    <tr>\n",
       "      <th>b_hhold_test</th>\n",
       "      <td>441</td>\n",
       "      <td>9</td>\n",
       "      <td>0.571834</td>\n",
       "      <td>1604</td>\n",
       "    </tr>\n",
       "    <tr>\n",
       "      <th>b_indiv_test</th>\n",
       "      <td>225</td>\n",
       "      <td>28</td>\n",
       "      <td>0.815713</td>\n",
       "      <td>10066</td>\n",
       "    </tr>\n",
       "    <tr>\n",
       "      <th>c_hhold_train</th>\n",
       "      <td>164</td>\n",
       "      <td>0</td>\n",
       "      <td>0.000000</td>\n",
       "      <td>6469</td>\n",
       "    </tr>\n",
       "    <tr>\n",
       "      <th>c_indiv_train</th>\n",
       "      <td>43</td>\n",
       "      <td>0</td>\n",
       "      <td>0.000000</td>\n",
       "      <td>29913</td>\n",
       "    </tr>\n",
       "    <tr>\n",
       "      <th>c_hhold_test</th>\n",
       "      <td>163</td>\n",
       "      <td>0</td>\n",
       "      <td>0.000000</td>\n",
       "      <td>3187</td>\n",
       "    </tr>\n",
       "    <tr>\n",
       "      <th>c_indiv_test</th>\n",
       "      <td>42</td>\n",
       "      <td>0</td>\n",
       "      <td>0.000000</td>\n",
       "      <td>14701</td>\n",
       "    </tr>\n",
       "  </tbody>\n",
       "</table>\n",
       "</div>"
      ],
      "text/plain": [
       "               Columns  Columns with missing features  Mean % nulls  \\\n",
       "a_hhold_train      345                              0      0.000000   \n",
       "a_indiv_train       43                              1      0.166880   \n",
       "a_hhold_test       344                              0      0.000000   \n",
       "a_indiv_test        42                              1      0.165255   \n",
       "b_hhold_train      442                              9      0.572931   \n",
       "b_indiv_train      226                             28      0.813452   \n",
       "b_hhold_test       441                              9      0.571834   \n",
       "b_indiv_test       225                             28      0.815713   \n",
       "c_hhold_train      164                              0      0.000000   \n",
       "c_indiv_train       43                              0      0.000000   \n",
       "c_hhold_test       163                              0      0.000000   \n",
       "c_indiv_test        42                              0      0.000000   \n",
       "\n",
       "               Total rows  \n",
       "a_hhold_train        8203  \n",
       "a_indiv_train       37560  \n",
       "a_hhold_test         4041  \n",
       "a_indiv_test        18535  \n",
       "b_hhold_train        3255  \n",
       "b_indiv_train       20252  \n",
       "b_hhold_test         1604  \n",
       "b_indiv_test        10066  \n",
       "c_hhold_train        6469  \n",
       "c_indiv_train       29913  \n",
       "c_hhold_test         3187  \n",
       "c_indiv_test        14701  "
      ]
     },
     "execution_count": 5,
     "metadata": {},
     "output_type": "execute_result"
    }
   ],
   "source": [
    "null_rows_per_null_columns = [[d[c].isnull().values.sum() for c in d.columns[d.isnull().any()].tolist()] for d in datasets]\n",
    "\n",
    "missing_data = {#'Contains missing data': [d.isnull().values.any() for d in datasets],\n",
    "               'Columns with missing features': [d.isnull().values.any(axis=0).sum() for d in datasets],\n",
    "               'Columns': [d.shape[1] for d in datasets],\n",
    "               'Total rows': [d.shape[0] for d in datasets],\n",
    "               'Mean % nulls': [0 if len(col_nulls) == 0 else np.mean(col_nulls)/d.shape[0] for (d, col_nulls) in zip(datasets, null_rows_per_null_columns)]}\n",
    "\n",
    "missing_data = pd.DataFrame(missing_data, index=[\"a_hhold_train\",\n",
    "                                                \"a_indiv_train\",\n",
    "                                                \"a_hhold_test\",\n",
    "                                                \"a_indiv_test\",\n",
    "                                                \"b_hhold_train\",\n",
    "                                                \"b_indiv_train\",\n",
    "                                                \"b_hhold_test\",\n",
    "                                                \"b_indiv_test\",\n",
    "                                                \"c_hhold_train\",\n",
    "                                                \"c_indiv_train\",\n",
    "                                                \"c_hhold_test\",\n",
    "                                                \"c_indiv_test\"])\n",
    "\n",
    "missing_data"
   ]
  },
  {
   "cell_type": "markdown",
   "metadata": {},
   "source": [
    "### Analysis for `b_hhold_train` and `b_hhold_test`"
   ]
  },
  {
   "cell_type": "markdown",
   "metadata": {},
   "source": [
    "We first check if the columns containing missing data are the same for both datasets."
   ]
  },
  {
   "cell_type": "code",
   "execution_count": 6,
   "metadata": {},
   "outputs": [],
   "source": [
    "nb_rows_b_hhold_train, nb_columns_b_hhold_train = b_hhold_train.shape"
   ]
  },
  {
   "cell_type": "code",
   "execution_count": 7,
   "metadata": {
    "scrolled": true
   },
   "outputs": [
    {
     "name": "stdout",
     "output_type": "stream",
     "text": [
      "Are the columns containing missing values in b_hhold_train and b_hhold_test the same ?\n",
      "True\n"
     ]
    },
    {
     "data": {
      "text/html": [
       "<div>\n",
       "<table border=\"1\" class=\"dataframe\">\n",
       "  <thead>\n",
       "    <tr style=\"text-align: right;\">\n",
       "      <th></th>\n",
       "      <th>Number of missing values</th>\n",
       "      <th>Percentage of missing data</th>\n",
       "      <th>Type of data</th>\n",
       "    </tr>\n",
       "  </thead>\n",
       "  <tbody>\n",
       "    <tr>\n",
       "      <th>IrxBnWxE</th>\n",
       "      <td>2983</td>\n",
       "      <td>91.643625</td>\n",
       "      <td>float64</td>\n",
       "    </tr>\n",
       "    <tr>\n",
       "      <th>dnlnKrAg</th>\n",
       "      <td>2723</td>\n",
       "      <td>83.655914</td>\n",
       "      <td>float64</td>\n",
       "    </tr>\n",
       "    <tr>\n",
       "      <th>FGWqGkmD</th>\n",
       "      <td>2653</td>\n",
       "      <td>81.505376</td>\n",
       "      <td>float64</td>\n",
       "    </tr>\n",
       "    <tr>\n",
       "      <th>umkFMfvA</th>\n",
       "      <td>2365</td>\n",
       "      <td>72.657450</td>\n",
       "      <td>float64</td>\n",
       "    </tr>\n",
       "    <tr>\n",
       "      <th>aAufyreG</th>\n",
       "      <td>2346</td>\n",
       "      <td>72.073733</td>\n",
       "      <td>float64</td>\n",
       "    </tr>\n",
       "    <tr>\n",
       "      <th>BRzuVmyf</th>\n",
       "      <td>1461</td>\n",
       "      <td>44.884793</td>\n",
       "      <td>float64</td>\n",
       "    </tr>\n",
       "    <tr>\n",
       "      <th>BXOWgPgL</th>\n",
       "      <td>751</td>\n",
       "      <td>23.072197</td>\n",
       "      <td>float64</td>\n",
       "    </tr>\n",
       "    <tr>\n",
       "      <th>McFBIGsm</th>\n",
       "      <td>751</td>\n",
       "      <td>23.072197</td>\n",
       "      <td>float64</td>\n",
       "    </tr>\n",
       "    <tr>\n",
       "      <th>OSmfjCbE</th>\n",
       "      <td>751</td>\n",
       "      <td>23.072197</td>\n",
       "      <td>float64</td>\n",
       "    </tr>\n",
       "  </tbody>\n",
       "</table>\n",
       "</div>"
      ],
      "text/plain": [
       "          Number of missing values  Percentage of missing data Type of data\n",
       "IrxBnWxE                      2983                   91.643625      float64\n",
       "dnlnKrAg                      2723                   83.655914      float64\n",
       "FGWqGkmD                      2653                   81.505376      float64\n",
       "umkFMfvA                      2365                   72.657450      float64\n",
       "aAufyreG                      2346                   72.073733      float64\n",
       "BRzuVmyf                      1461                   44.884793      float64\n",
       "BXOWgPgL                       751                   23.072197      float64\n",
       "McFBIGsm                       751                   23.072197      float64\n",
       "OSmfjCbE                       751                   23.072197      float64"
      ]
     },
     "execution_count": 7,
     "metadata": {},
     "output_type": "execute_result"
    }
   ],
   "source": [
    "print(\"Are the columns containing missing values in b_hhold_train and b_hhold_test the same ?\")\n",
    "print(list(b_hhold_train.columns[b_hhold_train.isnull().any()])\n",
    "      == list(b_hhold_test.columns[b_hhold_test.isnull().any()]))\n",
    "\n",
    "missing_columns = ['FGWqGkmD', 'BXOWgPgL', 'umkFMfvA', 'McFBIGsm',\n",
    "                    'IrxBnWxE', 'BRzuVmyf','dnlnKrAg', 'aAufyreG',\n",
    "                    'OSmfjCbE']\n",
    "\n",
    "nb_missing_data_b_hhold_train = b_hhold_train[missing_columns].isnull().sum()\n",
    "missing_b_hhold_train = {\"Number of missing values\": nb_missing_data_b_hhold_train,\n",
    "                         \"Percentage of missing data\": [x / nb_rows_b_hhold_train * 100 for x in nb_missing_data_b_hhold_train], \n",
    "                         \"Type of data\": b_hhold_train[missing_columns].dtypes}\n",
    "\n",
    "pd.DataFrame(missing_b_hhold_train, index=missing_columns).sort_values('Number of missing values', ascending=False)"
   ]
  },
  {
   "cell_type": "markdown",
   "metadata": {},
   "source": [
    "All the data are numerical."
   ]
  },
  {
   "cell_type": "code",
   "execution_count": 8,
   "metadata": {
    "scrolled": true
   },
   "outputs": [
    {
     "data": {
      "text/plain": [
       "array([[<matplotlib.axes._subplots.AxesSubplot object at 0x7fb43682d208>,\n",
       "        <matplotlib.axes._subplots.AxesSubplot object at 0x7fb43545b208>,\n",
       "        <matplotlib.axes._subplots.AxesSubplot object at 0x7fb43460f2e8>],\n",
       "       [<matplotlib.axes._subplots.AxesSubplot object at 0x7fb434531160>,\n",
       "        <matplotlib.axes._subplots.AxesSubplot object at 0x7fb434541588>,\n",
       "        <matplotlib.axes._subplots.AxesSubplot object at 0x7fb4345415c0>],\n",
       "       [<matplotlib.axes._subplots.AxesSubplot object at 0x7fb434456550>,\n",
       "        <matplotlib.axes._subplots.AxesSubplot object at 0x7fb4343bfc88>,\n",
       "        <matplotlib.axes._subplots.AxesSubplot object at 0x7fb43439df28>],\n",
       "       [<matplotlib.axes._subplots.AxesSubplot object at 0x7fb434319be0>,\n",
       "        <matplotlib.axes._subplots.AxesSubplot object at 0x7fb434282550>,\n",
       "        <matplotlib.axes._subplots.AxesSubplot object at 0x7fb43423b940>]], dtype=object)"
      ]
     },
     "execution_count": 8,
     "metadata": {},
     "output_type": "execute_result"
    },
    {
     "data": {
      "image/png": "[encoded data removed]",
      "text/plain": [
       "<matplotlib.figure.Figure at 0x7fb46c116748>"
      ]
     },
     "metadata": {},
     "output_type": "display_data"
    }
   ],
   "source": [
    "b_hhold_train.hist(column=missing_columns, layout=(4,3))"
   ]
  },
  {
   "cell_type": "markdown",
   "metadata": {},
   "source": [
    "#### Analysis of the column `IrxBnWxE`"
   ]
  },
  {
   "cell_type": "markdown",
   "metadata": {},
   "source": [
    "Wide range of values for those columns, except for `IrxBnWxE`, which has 91.6 % of missing data.  \n",
    "Let's investigate this column."
   ]
  },
  {
   "cell_type": "code",
   "execution_count": 9,
   "metadata": {},
   "outputs": [
    {
     "data": {
      "text/plain": [
       "array([ nan,   3., -37., -13.,  -5., -21., -45., -61., -29.])"
      ]
     },
     "execution_count": 9,
     "metadata": {},
     "output_type": "execute_result"
    }
   ],
   "source": [
    "b_hhold_train['IrxBnWxE'].unique()"
   ]
  },
  {
   "cell_type": "code",
   "execution_count": 10,
   "metadata": {},
   "outputs": [
    {
     "data": {
      "text/plain": [
       "<matplotlib.axes._subplots.AxesSubplot at 0x7fb434465080>"
      ]
     },
     "execution_count": 10,
     "metadata": {},
     "output_type": "execute_result"
    },
    {
     "data": {
      "image/png": "[encoded data removed]",
      "text/plain": [
       "<matplotlib.figure.Figure at 0x7fb42e444828>"
      ]
     },
     "metadata": {},
     "output_type": "display_data"
    }
   ],
   "source": [
    "b_hhold_train['IrxBnWxE'].hist()"
   ]
  },
  {
   "cell_type": "code",
   "execution_count": 11,
   "metadata": {
    "scrolled": true
   },
   "outputs": [
    {
     "name": "stdout",
     "output_type": "stream",
     "text": [
      "Variance of the column (train set): 0.0201327314014\n",
      "Variance of the column (test set): 0.0335875184744\n"
     ]
    }
   ],
   "source": [
    "x = b_hhold_train[['IrxBnWxE']].dropna().values.astype(float)\n",
    "x_scaled = min_max_scaler.fit_transform(x)\n",
    "print(\"Variance of the column (train set):\", x_scaled.var())\n",
    "\n",
    "x = b_hhold_test[['IrxBnWxE']].dropna().values.astype(float)\n",
    "x_scaled = min_max_scaler.fit_transform(x)\n",
    "print(\"Variance of the column (test set):\", x_scaled.var())"
   ]
  },
  {
   "cell_type": "markdown",
   "metadata": {},
   "source": [
    "Very small variance : Variance < 0.05.  \n",
    "We remove this column."
   ]
  },
  {
   "cell_type": "code",
   "execution_count": 12,
   "metadata": {},
   "outputs": [],
   "source": [
    "b_hhold_train = b_hhold_train.drop('IrxBnWxE', 1)\n",
    "b_hhold_test = b_hhold_test.drop('IrxBnWxE', 1)"
   ]
  },
  {
   "cell_type": "markdown",
   "metadata": {},
   "source": [
    "#### Analysis of the columns `BXOWgPgL`, `McFBIGsm`, `OSmfjCbE`"
   ]
  },
  {
   "cell_type": "markdown",
   "metadata": {},
   "source": [
    "We can notice that those three columns contain exactly the same number of missing data. Let's check if the data for those columns are missing for the same indexes."
   ]
  },
  {
   "cell_type": "code",
   "execution_count": 13,
   "metadata": {},
   "outputs": [
    {
     "name": "stdout",
     "output_type": "stream",
     "text": [
      "False\n",
      "False\n"
     ]
    }
   ],
   "source": [
    "print(False in b_hhold_train['BXOWgPgL'].dropna().index == b_hhold_train['McFBIGsm'].dropna().index)\n",
    "print(False in b_hhold_train['BXOWgPgL'].dropna().index == b_hhold_train['OSmfjCbE'].dropna().index)"
   ]
  },
  {
   "cell_type": "markdown",
   "metadata": {},
   "source": [
    "The data is missing for the same indexes for each column. It could reveal some correlation between those columns, we need to check this."
   ]
  },
  {
   "cell_type": "markdown",
   "metadata": {},
   "source": [
    "##### Linear correlation:"
   ]
  },
  {
   "cell_type": "code",
   "execution_count": 14,
   "metadata": {
    "scrolled": true
   },
   "outputs": [
    {
     "data": {
      "text/html": [
       "<div>\n",
       "<table border=\"1\" class=\"dataframe\">\n",
       "  <thead>\n",
       "    <tr style=\"text-align: right;\">\n",
       "      <th></th>\n",
       "      <th>BXOWgPgL</th>\n",
       "      <th>McFBIGsm</th>\n",
       "      <th>OSmfjCbE</th>\n",
       "    </tr>\n",
       "  </thead>\n",
       "  <tbody>\n",
       "    <tr>\n",
       "      <th>BXOWgPgL</th>\n",
       "      <td>1.000000</td>\n",
       "      <td>0.689809</td>\n",
       "      <td>-0.424017</td>\n",
       "    </tr>\n",
       "    <tr>\n",
       "      <th>McFBIGsm</th>\n",
       "      <td>0.689809</td>\n",
       "      <td>1.000000</td>\n",
       "      <td>-0.624651</td>\n",
       "    </tr>\n",
       "    <tr>\n",
       "      <th>OSmfjCbE</th>\n",
       "      <td>-0.424017</td>\n",
       "      <td>-0.624651</td>\n",
       "      <td>1.000000</td>\n",
       "    </tr>\n",
       "  </tbody>\n",
       "</table>\n",
       "</div>"
      ],
      "text/plain": [
       "          BXOWgPgL  McFBIGsm  OSmfjCbE\n",
       "BXOWgPgL  1.000000  0.689809 -0.424017\n",
       "McFBIGsm  0.689809  1.000000 -0.624651\n",
       "OSmfjCbE -0.424017 -0.624651  1.000000"
      ]
     },
     "execution_count": 14,
     "metadata": {},
     "output_type": "execute_result"
    }
   ],
   "source": [
    "b_hhold_train[['BXOWgPgL', 'McFBIGsm', 'OSmfjCbE']].dropna().corr(method='pearson')"
   ]
  },
  {
   "cell_type": "markdown",
   "metadata": {},
   "source": [
    "##### Monotonic association"
   ]
  },
  {
   "cell_type": "code",
   "execution_count": 15,
   "metadata": {},
   "outputs": [
    {
     "data": {
      "text/html": [
       "<div>\n",
       "<table border=\"1\" class=\"dataframe\">\n",
       "  <thead>\n",
       "    <tr style=\"text-align: right;\">\n",
       "      <th></th>\n",
       "      <th>BXOWgPgL</th>\n",
       "      <th>McFBIGsm</th>\n",
       "      <th>OSmfjCbE</th>\n",
       "    </tr>\n",
       "  </thead>\n",
       "  <tbody>\n",
       "    <tr>\n",
       "      <th>BXOWgPgL</th>\n",
       "      <td>1.000000</td>\n",
       "      <td>0.715156</td>\n",
       "      <td>-0.479523</td>\n",
       "    </tr>\n",
       "    <tr>\n",
       "      <th>McFBIGsm</th>\n",
       "      <td>0.715156</td>\n",
       "      <td>1.000000</td>\n",
       "      <td>-0.673360</td>\n",
       "    </tr>\n",
       "    <tr>\n",
       "      <th>OSmfjCbE</th>\n",
       "      <td>-0.479523</td>\n",
       "      <td>-0.673360</td>\n",
       "      <td>1.000000</td>\n",
       "    </tr>\n",
       "  </tbody>\n",
       "</table>\n",
       "</div>"
      ],
      "text/plain": [
       "          BXOWgPgL  McFBIGsm  OSmfjCbE\n",
       "BXOWgPgL  1.000000  0.715156 -0.479523\n",
       "McFBIGsm  0.715156  1.000000 -0.673360\n",
       "OSmfjCbE -0.479523 -0.673360  1.000000"
      ]
     },
     "execution_count": 15,
     "metadata": {},
     "output_type": "execute_result"
    }
   ],
   "source": [
    "b_hhold_train[['BXOWgPgL', 'McFBIGsm', 'OSmfjCbE']].dropna().corr(method='spearman')"
   ]
  },
  {
   "cell_type": "markdown",
   "metadata": {},
   "source": [
    "`BXOWgPgL` and `McFBIGsm` are slightly positively correlated, but not enough to decide to remove one or several of them."
   ]
  },
  {
   "cell_type": "code",
   "execution_count": 16,
   "metadata": {},
   "outputs": [
    {
     "name": "stdout",
     "output_type": "stream",
     "text": [
      "Variance of the column (train set): 0.0749180492588\n",
      "Variance of the column (test set): 0.0791064431259\n"
     ]
    }
   ],
   "source": [
    "x = b_hhold_train[['OSmfjCbE']].dropna().values.astype(float)\n",
    "x_scaled = min_max_scaler.fit_transform(x)\n",
    "print(\"Variance of the column (train set):\", x_scaled.var())\n",
    "\n",
    "x = b_hhold_test[['OSmfjCbE']].dropna().values.astype(float)\n",
    "x_scaled = min_max_scaler.fit_transform(x)\n",
    "print(\"Variance of the column (test set):\", x_scaled.var())"
   ]
  },
  {
   "cell_type": "markdown",
   "metadata": {},
   "source": [
    "## Shared features across countries"
   ]
  },
  {
   "cell_type": "code",
   "execution_count": 17,
   "metadata": {
    "scrolled": true
   },
   "outputs": [
    {
     "data": {
      "text/html": [
       "<div>\n",
       "<table border=\"1\" class=\"dataframe\">\n",
       "  <thead>\n",
       "    <tr style=\"text-align: right;\">\n",
       "      <th></th>\n",
       "      <th>Common features</th>\n",
       "      <th>Features d1</th>\n",
       "      <th>Features d2</th>\n",
       "    </tr>\n",
       "  </thead>\n",
       "  <tbody>\n",
       "    <tr>\n",
       "      <th>a_b_hhold</th>\n",
       "      <td>1</td>\n",
       "      <td>344</td>\n",
       "      <td>440</td>\n",
       "    </tr>\n",
       "    <tr>\n",
       "      <th>a_c_hhold</th>\n",
       "      <td>7</td>\n",
       "      <td>344</td>\n",
       "      <td>163</td>\n",
       "    </tr>\n",
       "    <tr>\n",
       "      <th>b_c_hhold</th>\n",
       "      <td>1</td>\n",
       "      <td>440</td>\n",
       "      <td>163</td>\n",
       "    </tr>\n",
       "    <tr>\n",
       "      <th>a_b_indiv</th>\n",
       "      <td>2</td>\n",
       "      <td>42</td>\n",
       "      <td>225</td>\n",
       "    </tr>\n",
       "    <tr>\n",
       "      <th>a_c_indiv</th>\n",
       "      <td>3</td>\n",
       "      <td>42</td>\n",
       "      <td>42</td>\n",
       "    </tr>\n",
       "    <tr>\n",
       "      <th>b_c_indiv</th>\n",
       "      <td>2</td>\n",
       "      <td>225</td>\n",
       "      <td>42</td>\n",
       "    </tr>\n",
       "  </tbody>\n",
       "</table>\n",
       "</div>"
      ],
      "text/plain": [
       "           Common features  Features d1  Features d2\n",
       "a_b_hhold                1          344          440\n",
       "a_c_hhold                7          344          163\n",
       "b_c_hhold                1          440          163\n",
       "a_b_indiv                2           42          225\n",
       "a_c_indiv                3           42           42\n",
       "b_c_indiv                2          225           42"
      ]
     },
     "execution_count": 17,
     "metadata": {},
     "output_type": "execute_result"
    }
   ],
   "source": [
    "dataset_pairs = [(a_hhold_test, b_hhold_test), (a_hhold_test, c_hhold_test), (b_hhold_test, c_hhold_test), (a_indiv_test, b_indiv_test), (a_indiv_test, c_indiv_test), (b_indiv_test, c_indiv_test)]\n",
    "common_features = {'Common features': [len(set(d1.columns).intersection(set(d2.columns))) for d1, d2 in dataset_pairs],\n",
    "                   'Features d1': [d.shape[1] for d, _ in dataset_pairs],\n",
    "                   'Features d2': [d.shape[1] for _, d in dataset_pairs]}\n",
    "common_features = pd.DataFrame(common_features, index=[\"a_b_hhold\",\n",
    "                                                       \"a_c_hhold\",\n",
    "                                                       \"b_c_hhold\",\n",
    "                                                       \"a_b_indiv\",\n",
    "                                                       \"a_c_indiv\",\n",
    "                                                       \"b_c_indiv\"])\n",
    "common_features"
   ]
  },
  {
   "cell_type": "markdown",
   "metadata": {},
   "source": [
    "It seems more interesting to train separate models for each country.  \n",
    "We can then remove the `country` column as it no longer adds information to a model specificly trained for a country (variance = 0)."
   ]
  },
  {
   "cell_type": "code",
   "execution_count": 18,
   "metadata": {},
   "outputs": [],
   "source": [
    "a_hhold_train = a_hhold_train.drop('country', 1)\n",
    "a_hhold_test = a_hhold_test.drop('country', 1)\n",
    "b_hhold_train = b_hhold_train.drop('country', 1)\n",
    "b_hhold_test = b_hhold_test.drop('country', 1)\n",
    "c_hhold_train = c_hhold_train.drop('country', 1)\n",
    "c_hhold_test = c_hhold_test.drop('country', 1)"
   ]
  }
 ],
 "metadata": {
  "kernelspec": {
   "display_name": "Python 3",
   "language": "python",
   "name": "python3"
  },
  "language_info": {
   "codemirror_mode": {
    "name": "ipython",
    "version": 3
   },
   "file_extension": ".py",
   "mimetype": "text/x-python",
   "name": "python",
   "nbconvert_exporter": "python",
   "pygments_lexer": "ipython3",
   "version": "3.6.2"
  }
 },
 "nbformat": 4,
 "nbformat_minor": 2
}
